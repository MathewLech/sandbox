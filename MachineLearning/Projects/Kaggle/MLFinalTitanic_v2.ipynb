{
 "cells": [
  {
   "cell_type": "code",
   "execution_count": 41,
   "metadata": {},
   "outputs": [],
   "source": [
    "# data analysis and wrangling\n",
    "import pandas as pd\n",
    "import numpy as np\n",
    "import random as rnd\n",
    "import math\n",
    "from collections import Counter\n",
    "\n",
    "# visualization\n",
    "import seaborn as sns\n",
    "import matplotlib.pyplot as plt\n",
    "%matplotlib inline\n",
    "\n",
    "# machine learning\n",
    "from sklearn.linear_model import LinearRegression\n",
    "from sklearn.linear_model import LogisticRegression\n",
    "from sklearn.svm import SVC, LinearSVC\n",
    "from sklearn.ensemble import RandomForestClassifier\n",
    "from sklearn.neighbors import KNeighborsClassifier\n",
    "from sklearn.naive_bayes import GaussianNB\n",
    "from sklearn.linear_model import Perceptron\n",
    "from sklearn.neural_network import MLPClassifier\n",
    "from sklearn.linear_model import RidgeClassifier\n",
    "from sklearn.linear_model import SGDClassifier\n",
    "from sklearn.tree import DecisionTreeClassifier"
   ]
  },
  {
   "cell_type": "markdown",
   "metadata": {},
   "source": [
    "### Data Dictionary\n",
    "Variable\tDefinition\tKey\n",
    "survival\tSurvival\t0 = No, 1 = Yes\n",
    "pclass\tTicket class\t1 = 1st, 2 = 2nd, 3 = 3rd\n",
    "sex\tSex\t\n",
    "Age\tAge in years\t\n",
    "sibsp\t# of siblings / spouses aboard the Titanic\t\n",
    "parch\t# of parents / children aboard the Titanic\t\n",
    "ticket\tTicket number\t\n",
    "fare\tPassenger fare\t\n",
    "cabin\tCabin number\t\n",
    "embarked\tPort of Embarkation\tC = Cherbourg, Q = Queenstown, S = Southampton\n",
    "Variable Notes\n",
    "pclass: A proxy for socio-economic status (SES)\n",
    "1st = Upper\n",
    "2nd = Middle\n",
    "3rd = Lower\n",
    "\n",
    "age: Age is fractional if less than 1. If the age is estimated, is it in the form of xx.5\n",
    "\n",
    "sibsp: The dataset defines family relations in this way...\n",
    "Sibling = brother, sister, stepbrother, stepsister\n",
    "Spouse = husband, wife (mistresses and fiancés were ignored)\n",
    "\n",
    "parch: The dataset defines family relations in this way...\n",
    "Parent = mother, father\n",
    "Child = daughter, son, stepdaughter, stepson\n",
    "Some children travelled only with a nanny, therefore parch=0 for them."
   ]
  },
  {
   "cell_type": "code",
   "execution_count": 42,
   "metadata": {},
   "outputs": [
    {
     "name": "stdout",
     "output_type": "stream",
     "text": [
      "--------------------------------------------------------------------------------\n"
     ]
    }
   ],
   "source": [
    "train_df = pd.read_csv('/home/mathewlech/sandbox_local/input/titanic/train.csv')\n",
    "test_df = pd.read_csv('/home/mathewlech/sandbox_local/input/titanic/test.csv')\n",
    "combine = [train_df, test_df]\n",
    "transformed_Sex = False\n",
    "transformed_Embark = False\n",
    "\n",
    "age_buckets = 20\n",
    "fare_buckets = 10\n",
    "\n",
    "#train_df.info()\n",
    "print(\"--\"*40)\n",
    "#test_df.info()"
   ]
  },
  {
   "cell_type": "code",
   "execution_count": 43,
   "metadata": {},
   "outputs": [
    {
     "name": "stderr",
     "output_type": "stream",
     "text": [
      "/home/mathewlech/anaconda3/envs/primary_env/lib/python3.6/site-packages/numpy/lib/function_base.py:3652: RuntimeWarning: Invalid value encountered in percentile\n",
      "  interpolation=interpolation)\n"
     ]
    }
   ],
   "source": [
    "# Outlier detection \n",
    "def detect_outliers(df,n,features):\n",
    "    \"\"\"\n",
    "    Takes a dataframe df of features and returns a list of the indices\n",
    "    corresponding to the observations containing more than n outliers according\n",
    "    to the Tukey method.\n",
    "    \"\"\"\n",
    "    outlier_indices = []\n",
    "    \n",
    "    # iterate over features(columns)\n",
    "    for col in features:\n",
    "        # 1st quartile (25%)\n",
    "        Q1 = np.percentile(df[col], 25)\n",
    "        # 3rd quartile (75%)\n",
    "        Q3 = np.percentile(df[col],75)\n",
    "        # Interquartile range (IQR)\n",
    "        IQR = Q3 - Q1\n",
    "        \n",
    "        # outlier step\n",
    "        outlier_step = 1.5 * IQR\n",
    "        \n",
    "        # Determine a list of indices of outliers for feature col\n",
    "        outlier_list_col = df[(df[col] < Q1 - outlier_step) | (df[col] > Q3 + outlier_step )].index\n",
    "        \n",
    "        # append the found outlier indices for col to the list of outlier indices \n",
    "        outlier_indices.extend(outlier_list_col)\n",
    "        \n",
    "    # select observations containing more than 2 outliers\n",
    "    outlier_indices = Counter(outlier_indices)        \n",
    "    multiple_outliers = list( k for k, v in outlier_indices.items() if v > n )\n",
    "    \n",
    "    return multiple_outliers   \n",
    "\n",
    "# detect outliers from Age, SibSp , Parch and Fare\n",
    "Outliers_to_drop = detect_outliers(train_df,2,[\"Age\",\"SibSp\",\"Parch\",\"Fare\"])"
   ]
  },
  {
   "cell_type": "code",
   "execution_count": 44,
   "metadata": {},
   "outputs": [
    {
     "data": {
      "text/html": [
       "<div>\n",
       "<style scoped>\n",
       "    .dataframe tbody tr th:only-of-type {\n",
       "        vertical-align: middle;\n",
       "    }\n",
       "\n",
       "    .dataframe tbody tr th {\n",
       "        vertical-align: top;\n",
       "    }\n",
       "\n",
       "    .dataframe thead th {\n",
       "        text-align: right;\n",
       "    }\n",
       "</style>\n",
       "<table border=\"1\" class=\"dataframe\">\n",
       "  <thead>\n",
       "    <tr style=\"text-align: right;\">\n",
       "      <th></th>\n",
       "      <th>PassengerId</th>\n",
       "      <th>Survived</th>\n",
       "      <th>Pclass</th>\n",
       "      <th>Name</th>\n",
       "      <th>Sex</th>\n",
       "      <th>Age</th>\n",
       "      <th>SibSp</th>\n",
       "      <th>Parch</th>\n",
       "      <th>Ticket</th>\n",
       "      <th>Fare</th>\n",
       "      <th>Cabin</th>\n",
       "      <th>Embarked</th>\n",
       "    </tr>\n",
       "  </thead>\n",
       "  <tbody>\n",
       "    <tr>\n",
       "      <th>27</th>\n",
       "      <td>28</td>\n",
       "      <td>0</td>\n",
       "      <td>1</td>\n",
       "      <td>Fortune, Mr. Charles Alexander</td>\n",
       "      <td>male</td>\n",
       "      <td>19.0</td>\n",
       "      <td>3</td>\n",
       "      <td>2</td>\n",
       "      <td>19950</td>\n",
       "      <td>263.00</td>\n",
       "      <td>C23 C25 C27</td>\n",
       "      <td>S</td>\n",
       "    </tr>\n",
       "    <tr>\n",
       "      <th>88</th>\n",
       "      <td>89</td>\n",
       "      <td>1</td>\n",
       "      <td>1</td>\n",
       "      <td>Fortune, Miss. Mabel Helen</td>\n",
       "      <td>female</td>\n",
       "      <td>23.0</td>\n",
       "      <td>3</td>\n",
       "      <td>2</td>\n",
       "      <td>19950</td>\n",
       "      <td>263.00</td>\n",
       "      <td>C23 C25 C27</td>\n",
       "      <td>S</td>\n",
       "    </tr>\n",
       "    <tr>\n",
       "      <th>159</th>\n",
       "      <td>160</td>\n",
       "      <td>0</td>\n",
       "      <td>3</td>\n",
       "      <td>Sage, Master. Thomas Henry</td>\n",
       "      <td>male</td>\n",
       "      <td>NaN</td>\n",
       "      <td>8</td>\n",
       "      <td>2</td>\n",
       "      <td>CA. 2343</td>\n",
       "      <td>69.55</td>\n",
       "      <td>NaN</td>\n",
       "      <td>S</td>\n",
       "    </tr>\n",
       "    <tr>\n",
       "      <th>180</th>\n",
       "      <td>181</td>\n",
       "      <td>0</td>\n",
       "      <td>3</td>\n",
       "      <td>Sage, Miss. Constance Gladys</td>\n",
       "      <td>female</td>\n",
       "      <td>NaN</td>\n",
       "      <td>8</td>\n",
       "      <td>2</td>\n",
       "      <td>CA. 2343</td>\n",
       "      <td>69.55</td>\n",
       "      <td>NaN</td>\n",
       "      <td>S</td>\n",
       "    </tr>\n",
       "    <tr>\n",
       "      <th>201</th>\n",
       "      <td>202</td>\n",
       "      <td>0</td>\n",
       "      <td>3</td>\n",
       "      <td>Sage, Mr. Frederick</td>\n",
       "      <td>male</td>\n",
       "      <td>NaN</td>\n",
       "      <td>8</td>\n",
       "      <td>2</td>\n",
       "      <td>CA. 2343</td>\n",
       "      <td>69.55</td>\n",
       "      <td>NaN</td>\n",
       "      <td>S</td>\n",
       "    </tr>\n",
       "    <tr>\n",
       "      <th>324</th>\n",
       "      <td>325</td>\n",
       "      <td>0</td>\n",
       "      <td>3</td>\n",
       "      <td>Sage, Mr. George John Jr</td>\n",
       "      <td>male</td>\n",
       "      <td>NaN</td>\n",
       "      <td>8</td>\n",
       "      <td>2</td>\n",
       "      <td>CA. 2343</td>\n",
       "      <td>69.55</td>\n",
       "      <td>NaN</td>\n",
       "      <td>S</td>\n",
       "    </tr>\n",
       "    <tr>\n",
       "      <th>341</th>\n",
       "      <td>342</td>\n",
       "      <td>1</td>\n",
       "      <td>1</td>\n",
       "      <td>Fortune, Miss. Alice Elizabeth</td>\n",
       "      <td>female</td>\n",
       "      <td>24.0</td>\n",
       "      <td>3</td>\n",
       "      <td>2</td>\n",
       "      <td>19950</td>\n",
       "      <td>263.00</td>\n",
       "      <td>C23 C25 C27</td>\n",
       "      <td>S</td>\n",
       "    </tr>\n",
       "    <tr>\n",
       "      <th>792</th>\n",
       "      <td>793</td>\n",
       "      <td>0</td>\n",
       "      <td>3</td>\n",
       "      <td>Sage, Miss. Stella Anna</td>\n",
       "      <td>female</td>\n",
       "      <td>NaN</td>\n",
       "      <td>8</td>\n",
       "      <td>2</td>\n",
       "      <td>CA. 2343</td>\n",
       "      <td>69.55</td>\n",
       "      <td>NaN</td>\n",
       "      <td>S</td>\n",
       "    </tr>\n",
       "    <tr>\n",
       "      <th>846</th>\n",
       "      <td>847</td>\n",
       "      <td>0</td>\n",
       "      <td>3</td>\n",
       "      <td>Sage, Mr. Douglas Bullen</td>\n",
       "      <td>male</td>\n",
       "      <td>NaN</td>\n",
       "      <td>8</td>\n",
       "      <td>2</td>\n",
       "      <td>CA. 2343</td>\n",
       "      <td>69.55</td>\n",
       "      <td>NaN</td>\n",
       "      <td>S</td>\n",
       "    </tr>\n",
       "    <tr>\n",
       "      <th>863</th>\n",
       "      <td>864</td>\n",
       "      <td>0</td>\n",
       "      <td>3</td>\n",
       "      <td>Sage, Miss. Dorothy Edith \"Dolly\"</td>\n",
       "      <td>female</td>\n",
       "      <td>NaN</td>\n",
       "      <td>8</td>\n",
       "      <td>2</td>\n",
       "      <td>CA. 2343</td>\n",
       "      <td>69.55</td>\n",
       "      <td>NaN</td>\n",
       "      <td>S</td>\n",
       "    </tr>\n",
       "  </tbody>\n",
       "</table>\n",
       "</div>"
      ],
      "text/plain": [
       "     PassengerId  Survived  Pclass                               Name     Sex  \\\n",
       "27            28         0       1     Fortune, Mr. Charles Alexander    male   \n",
       "88            89         1       1         Fortune, Miss. Mabel Helen  female   \n",
       "159          160         0       3         Sage, Master. Thomas Henry    male   \n",
       "180          181         0       3       Sage, Miss. Constance Gladys  female   \n",
       "201          202         0       3                Sage, Mr. Frederick    male   \n",
       "324          325         0       3           Sage, Mr. George John Jr    male   \n",
       "341          342         1       1     Fortune, Miss. Alice Elizabeth  female   \n",
       "792          793         0       3            Sage, Miss. Stella Anna  female   \n",
       "846          847         0       3           Sage, Mr. Douglas Bullen    male   \n",
       "863          864         0       3  Sage, Miss. Dorothy Edith \"Dolly\"  female   \n",
       "\n",
       "      Age  SibSp  Parch    Ticket    Fare        Cabin Embarked  \n",
       "27   19.0      3      2     19950  263.00  C23 C25 C27        S  \n",
       "88   23.0      3      2     19950  263.00  C23 C25 C27        S  \n",
       "159   NaN      8      2  CA. 2343   69.55          NaN        S  \n",
       "180   NaN      8      2  CA. 2343   69.55          NaN        S  \n",
       "201   NaN      8      2  CA. 2343   69.55          NaN        S  \n",
       "324   NaN      8      2  CA. 2343   69.55          NaN        S  \n",
       "341  24.0      3      2     19950  263.00  C23 C25 C27        S  \n",
       "792   NaN      8      2  CA. 2343   69.55          NaN        S  \n",
       "846   NaN      8      2  CA. 2343   69.55          NaN        S  \n",
       "863   NaN      8      2  CA. 2343   69.55          NaN        S  "
      ]
     },
     "execution_count": 44,
     "metadata": {},
     "output_type": "execute_result"
    }
   ],
   "source": [
    "train_df.loc[Outliers_to_drop]"
   ]
  },
  {
   "cell_type": "code",
   "execution_count": 45,
   "metadata": {},
   "outputs": [],
   "source": [
    "# Drop outliers\n",
    "train_df = train_df.drop(Outliers_to_drop, axis = 0).reset_index(drop=True)"
   ]
  },
  {
   "cell_type": "code",
   "execution_count": 46,
   "metadata": {},
   "outputs": [
    {
     "data": {
      "image/png": "[encoded data removed]",
      "text/plain": [
       "<Figure size 432x288 with 2 Axes>"
      ]
     },
     "metadata": {},
     "output_type": "display_data"
    }
   ],
   "source": [
    "# Correlation matrix between numerical values (SibSp Parch Age and Fare values) and Survived \n",
    "g = sns.heatmap(train_df[[\"Survived\",\"SibSp\",\"Parch\",\"Age\",\"Fare\"]].corr(),annot=True, fmt = \".2f\", cmap = \"coolwarm\")"
   ]
  },
  {
   "cell_type": "markdown",
   "metadata": {},
   "source": [
    "* 77% of cabin is null probably not much use for this column\n",
    "* passengerID doesn't intrinsically give us any real information\n",
    "* Ticket doesnt seemt to provide insight\n",
    "\n",
    "\n",
    "### Data manipulations"
   ]
  },
  {
   "cell_type": "code",
   "execution_count": 47,
   "metadata": {
    "scrolled": false
   },
   "outputs": [
    {
     "name": "stderr",
     "output_type": "stream",
     "text": [
      "/home/mathewlech/anaconda3/envs/primary_env/lib/python3.6/site-packages/seaborn/categorical.py:3666: UserWarning: The `factorplot` function has been renamed to `catplot`. The original name will be removed in a future release. Please update your code. Note that the default `kind` in `factorplot` (`'point'`) has changed `'strip'` in `catplot`.\n",
      "  warnings.warn(msg)\n",
      "/home/mathewlech/anaconda3/envs/primary_env/lib/python3.6/site-packages/seaborn/categorical.py:3672: UserWarning: The `size` paramter has been renamed to `height`; please update your code.\n",
      "  warnings.warn(msg, UserWarning)\n",
      "/home/mathewlech/anaconda3/envs/primary_env/lib/python3.6/site-packages/scipy/stats/stats.py:1713: FutureWarning: Using a non-tuple sequence for multidimensional indexing is deprecated; use `arr[tuple(seq)]` instead of `arr[seq]`. In the future this will be interpreted as an array index, `arr[np.array(seq)]`, which will result either in an error or a different result.\n",
      "  return np.add.reduce(sorted[indexer] * weights, axis=axis) / sumval\n"
     ]
    },
    {
     "data": {
      "image/png": "[encoded data removed]",
      "text/plain": [
       "<Figure size 432x432 with 1 Axes>"
      ]
     },
     "metadata": {},
     "output_type": "display_data"
    }
   ],
   "source": [
    "# Explore SibSp feature vs Survived\n",
    "g = sns.factorplot(x=\"SibSp\",y=\"Survived\",data=train_df,kind=\"bar\", size = 6 , \n",
    "palette = \"muted\")\n",
    "g.despine(left=True)\n",
    "g = g.set_ylabels(\"survival probability\")"
   ]
  },
  {
   "cell_type": "code",
   "execution_count": 48,
   "metadata": {},
   "outputs": [
    {
     "name": "stderr",
     "output_type": "stream",
     "text": [
      "/home/mathewlech/anaconda3/envs/primary_env/lib/python3.6/site-packages/seaborn/categorical.py:3666: UserWarning: The `factorplot` function has been renamed to `catplot`. The original name will be removed in a future release. Please update your code. Note that the default `kind` in `factorplot` (`'point'`) has changed `'strip'` in `catplot`.\n",
      "  warnings.warn(msg)\n",
      "/home/mathewlech/anaconda3/envs/primary_env/lib/python3.6/site-packages/seaborn/categorical.py:3672: UserWarning: The `size` paramter has been renamed to `height`; please update your code.\n",
      "  warnings.warn(msg, UserWarning)\n",
      "/home/mathewlech/anaconda3/envs/primary_env/lib/python3.6/site-packages/scipy/stats/stats.py:1713: FutureWarning: Using a non-tuple sequence for multidimensional indexing is deprecated; use `arr[tuple(seq)]` instead of `arr[seq]`. In the future this will be interpreted as an array index, `arr[np.array(seq)]`, which will result either in an error or a different result.\n",
      "  return np.add.reduce(sorted[indexer] * weights, axis=axis) / sumval\n"
     ]
    },
    {
     "data": {
      "image/png": "[encoded data removed]",
      "text/plain": [
       "<Figure size 432x432 with 1 Axes>"
      ]
     },
     "metadata": {},
     "output_type": "display_data"
    }
   ],
   "source": [
    "# Explore Parch feature vs Survived\n",
    "g  = sns.factorplot(x=\"Parch\",y=\"Survived\",data=train_df,kind=\"bar\", size = 6 , \n",
    "palette = \"muted\")\n",
    "g.despine(left=True)\n",
    "g = g.set_ylabels(\"survival probability\")"
   ]
  },
  {
   "cell_type": "code",
   "execution_count": 49,
   "metadata": {
    "scrolled": true
   },
   "outputs": [
    {
     "name": "stderr",
     "output_type": "stream",
     "text": [
      "/home/mathewlech/anaconda3/envs/primary_env/lib/python3.6/site-packages/scipy/stats/stats.py:1713: FutureWarning: Using a non-tuple sequence for multidimensional indexing is deprecated; use `arr[tuple(seq)]` instead of `arr[seq]`. In the future this will be interpreted as an array index, `arr[np.array(seq)]`, which will result either in an error or a different result.\n",
      "  return np.add.reduce(sorted[indexer] * weights, axis=axis) / sumval\n"
     ]
    },
    {
     "data": {
      "image/png": "[encoded data removed]",
      "text/plain": [
       "<Figure size 432x216 with 2 Axes>"
      ]
     },
     "metadata": {},
     "output_type": "display_data"
    }
   ],
   "source": [
    "# Explore Age vs Survived\n",
    "g = sns.FacetGrid(train_df, col='Survived')\n",
    "g = g.map(sns.distplot, \"Age\")"
   ]
  },
  {
   "cell_type": "code",
   "execution_count": 50,
   "metadata": {},
   "outputs": [
    {
     "name": "stderr",
     "output_type": "stream",
     "text": [
      "/home/mathewlech/anaconda3/envs/primary_env/lib/python3.6/site-packages/scipy/stats/stats.py:1713: FutureWarning: Using a non-tuple sequence for multidimensional indexing is deprecated; use `arr[tuple(seq)]` instead of `arr[seq]`. In the future this will be interpreted as an array index, `arr[np.array(seq)]`, which will result either in an error or a different result.\n",
      "  return np.add.reduce(sorted[indexer] * weights, axis=axis) / sumval\n"
     ]
    },
    {
     "data": {
      "image/png": "[encoded data removed]",
      "text/plain": [
       "<Figure size 432x288 with 1 Axes>"
      ]
     },
     "metadata": {},
     "output_type": "display_data"
    }
   ],
   "source": [
    "# Explore Age distibution \n",
    "g = sns.kdeplot(train_df[\"Age\"][(train_df[\"Survived\"] == 0) & (train_df[\"Age\"].notnull())], color=\"Red\", shade = True)\n",
    "g = sns.kdeplot(train_df[\"Age\"][(train_df[\"Survived\"] == 1) & (train_df[\"Age\"].notnull())], ax =g, color=\"Blue\", shade= True)\n",
    "g.set_xlabel(\"Age\")\n",
    "g.set_ylabel(\"Frequency\")\n",
    "g = g.legend([\"Not Survived\",\"Survived\"])"
   ]
  },
  {
   "cell_type": "code",
   "execution_count": 51,
   "metadata": {},
   "outputs": [
    {
     "name": "stderr",
     "output_type": "stream",
     "text": [
      "/home/mathewlech/anaconda3/envs/primary_env/lib/python3.6/site-packages/scipy/stats/stats.py:1713: FutureWarning: Using a non-tuple sequence for multidimensional indexing is deprecated; use `arr[tuple(seq)]` instead of `arr[seq]`. In the future this will be interpreted as an array index, `arr[np.array(seq)]`, which will result either in an error or a different result.\n",
      "  return np.add.reduce(sorted[indexer] * weights, axis=axis) / sumval\n"
     ]
    },
    {
     "data": {
      "image/png": "[encoded data removed]",
      "text/plain": [
       "<Figure size 432x288 with 1 Axes>"
      ]
     },
     "metadata": {},
     "output_type": "display_data"
    }
   ],
   "source": [
    "# Explore Fare distribution \n",
    "g = sns.distplot(train_df[\"Fare\"], color=\"m\", label=\"Skewness : %.2f\"%(train_df[\"Fare\"].skew()))\n",
    "g = g.legend(loc=\"best\")"
   ]
  },
  {
   "cell_type": "code",
   "execution_count": 52,
   "metadata": {},
   "outputs": [],
   "source": [
    "# Apply log to Fare to reduce skewness distribution\n",
    "train_df[\"Fare\"] = train_df[\"Fare\"].map(lambda i: np.log(i) if i > 0 else 0)"
   ]
  },
  {
   "cell_type": "code",
   "execution_count": 87,
   "metadata": {},
   "outputs": [
    {
     "name": "stderr",
     "output_type": "stream",
     "text": [
      "/home/mathewlech/anaconda3/envs/primary_env/lib/python3.6/site-packages/seaborn/categorical.py:3666: UserWarning: The `factorplot` function has been renamed to `catplot`. The original name will be removed in a future release. Please update your code. Note that the default `kind` in `factorplot` (`'point'`) has changed `'strip'` in `catplot`.\n",
      "  warnings.warn(msg)\n",
      "/home/mathewlech/anaconda3/envs/primary_env/lib/python3.6/site-packages/seaborn/categorical.py:3672: UserWarning: The `size` paramter has been renamed to `height`; please update your code.\n",
      "  warnings.warn(msg, UserWarning)\n",
      "/home/mathewlech/anaconda3/envs/primary_env/lib/python3.6/site-packages/scipy/stats/stats.py:1713: FutureWarning: Using a non-tuple sequence for multidimensional indexing is deprecated; use `arr[tuple(seq)]` instead of `arr[seq]`. In the future this will be interpreted as an array index, `arr[np.array(seq)]`, which will result either in an error or a different result.\n",
      "  return np.add.reduce(sorted[indexer] * weights, axis=axis) / sumval\n"
     ]
    },
    {
     "data": {
      "image/png": "[encoded data removed]",
      "text/plain": [
       "<Figure size 474.375x432 with 1 Axes>"
      ]
     },
     "metadata": {},
     "output_type": "display_data"
    }
   ],
   "source": [
    "# Explore Pclass vs Survived by Sex\n",
    "g = sns.factorplot(x=\"Pclass\", y=\"Survived\", hue=\"Sex\", data=train_df,\n",
    "                   size=6, kind=\"bar\", palette=\"coolwarm\")\n",
    "g.despine(left=True)\n",
    "g = g.set_ylabels(\"survival probability\")"
   ]
  },
  {
   "cell_type": "code",
   "execution_count": 54,
   "metadata": {},
   "outputs": [
    {
     "name": "stderr",
     "output_type": "stream",
     "text": [
      "/home/mathewlech/anaconda3/envs/primary_env/lib/python3.6/site-packages/seaborn/categorical.py:3666: UserWarning: The `factorplot` function has been renamed to `catplot`. The original name will be removed in a future release. Please update your code. Note that the default `kind` in `factorplot` (`'point'`) has changed `'strip'` in `catplot`.\n",
      "  warnings.warn(msg)\n",
      "/home/mathewlech/anaconda3/envs/primary_env/lib/python3.6/site-packages/seaborn/categorical.py:3672: UserWarning: The `size` paramter has been renamed to `height`; please update your code.\n",
      "  warnings.warn(msg, UserWarning)\n",
      "/home/mathewlech/anaconda3/envs/primary_env/lib/python3.6/site-packages/scipy/stats/stats.py:1713: FutureWarning: Using a non-tuple sequence for multidimensional indexing is deprecated; use `arr[tuple(seq)]` instead of `arr[seq]`. In the future this will be interpreted as an array index, `arr[np.array(seq)]`, which will result either in an error or a different result.\n",
      "  return np.add.reduce(sorted[indexer] * weights, axis=axis) / sumval\n"
     ]
    },
    {
     "data": {
      "image/png": "[encoded data removed]",
      "text/plain": [
       "<Figure size 502.5x432 with 1 Axes>"
      ]
     },
     "metadata": {},
     "output_type": "display_data"
    }
   ],
   "source": [
    "# Explore Embarked vs Survived \n",
    "g = sns.factorplot(x=\"Embarked\", y=\"Survived\",hue=\"Sex\",   data=train_df,\n",
    "                   size=6, kind=\"bar\", palette=\"muted\")\n",
    "g.despine(left=True)\n",
    "g = g.set_ylabels(\"survival probability\")"
   ]
  },
  {
   "cell_type": "code",
   "execution_count": 55,
   "metadata": {
    "scrolled": true
   },
   "outputs": [
    {
     "name": "stderr",
     "output_type": "stream",
     "text": [
      "/home/mathewlech/anaconda3/envs/primary_env/lib/python3.6/site-packages/seaborn/categorical.py:3666: UserWarning: The `factorplot` function has been renamed to `catplot`. The original name will be removed in a future release. Please update your code. Note that the default `kind` in `factorplot` (`'point'`) has changed `'strip'` in `catplot`.\n",
      "  warnings.warn(msg)\n",
      "/home/mathewlech/anaconda3/envs/primary_env/lib/python3.6/site-packages/seaborn/categorical.py:3666: UserWarning: The `factorplot` function has been renamed to `catplot`. The original name will be removed in a future release. Please update your code. Note that the default `kind` in `factorplot` (`'point'`) has changed `'strip'` in `catplot`.\n",
      "  warnings.warn(msg)\n",
      "/home/mathewlech/anaconda3/envs/primary_env/lib/python3.6/site-packages/seaborn/categorical.py:3666: UserWarning: The `factorplot` function has been renamed to `catplot`. The original name will be removed in a future release. Please update your code. Note that the default `kind` in `factorplot` (`'point'`) has changed `'strip'` in `catplot`.\n",
      "  warnings.warn(msg)\n",
      "/home/mathewlech/anaconda3/envs/primary_env/lib/python3.6/site-packages/seaborn/categorical.py:3666: UserWarning: The `factorplot` function has been renamed to `catplot`. The original name will be removed in a future release. Please update your code. Note that the default `kind` in `factorplot` (`'point'`) has changed `'strip'` in `catplot`.\n",
      "  warnings.warn(msg)\n"
     ]
    },
    {
     "data": {
      "image/png": "[encoded data removed]",
      "text/plain": [
       "<Figure size 360x360 with 1 Axes>"
      ]
     },
     "metadata": {},
     "output_type": "display_data"
    },
    {
     "data": {
      "image/png": "[encoded data removed]",
      "text/plain": [
       "<Figure size 402.375x360 with 1 Axes>"
      ]
     },
     "metadata": {},
     "output_type": "display_data"
    },
    {
     "data": {
      "image/png": "[encoded data removed]",
      "text/plain": [
       "<Figure size 360x360 with 1 Axes>"
      ]
     },
     "metadata": {},
     "output_type": "display_data"
    },
    {
     "data": {
      "image/png": "[encoded data removed]",
      "text/plain": [
       "<Figure size 360x360 with 1 Axes>"
      ]
     },
     "metadata": {},
     "output_type": "display_data"
    }
   ],
   "source": [
    "# Explore Age vs Sex, Parch , Pclass and SibSP\n",
    "g = sns.factorplot(y=\"Age\",x=\"Sex\",data=train_df,kind=\"box\")\n",
    "g = sns.factorplot(y=\"Age\",x=\"Sex\",hue=\"Pclass\", data=train_df,kind=\"box\")\n",
    "g = sns.factorplot(y=\"Age\",x=\"Parch\", data=train_df,kind=\"box\")\n",
    "g = sns.factorplot(y=\"Age\",x=\"SibSp\", data=train_df,kind=\"box\")"
   ]
  },
  {
   "cell_type": "code",
   "execution_count": 56,
   "metadata": {},
   "outputs": [],
   "source": [
    "# convert Sex into categorical value 0 for male and 1 for female\n",
    "train_df[\"Sex\"] = train_df[\"Sex\"].map({\"male\": 0, \"female\":1})\n",
    "test_df[\"Sex\"] = test_df[\"Sex\"].map({\"male\": 0, \"female\":1})"
   ]
  },
  {
   "cell_type": "code",
   "execution_count": 57,
   "metadata": {},
   "outputs": [
    {
     "data": {
      "image/png": "[encoded data removed]",
      "text/plain": [
       "<Figure size 432x288 with 2 Axes>"
      ]
     },
     "metadata": {},
     "output_type": "display_data"
    }
   ],
   "source": [
    "g = sns.heatmap(train_df[[\"Age\",\"Sex\",\"SibSp\",\"Parch\",\"Pclass\"]].corr(),cmap=\"BrBG\",annot=True,)"
   ]
  },
  {
   "cell_type": "code",
   "execution_count": null,
   "metadata": {},
   "outputs": [],
   "source": []
  },
  {
   "cell_type": "code",
   "execution_count": null,
   "metadata": {},
   "outputs": [],
   "source": []
  },
  {
   "cell_type": "code",
   "execution_count": 58,
   "metadata": {},
   "outputs": [],
   "source": [
    "if 'Cabin' in train_df:\n",
    "    train_df = train_df.drop(['Cabin'], axis=1)\n",
    "if 'Cabin' in test_df:\n",
    "    test_df = test_df.drop(['Cabin'], axis=1)       \n",
    "    \n",
    "if 'Ticket' in train_df:\n",
    "    train_df = train_df.drop(['Ticket'], axis=1)\n",
    "if 'Ticket' in test_df:\n",
    "    test_df = test_df.drop(['Ticket'], axis=1)    \n",
    "    \n",
    "combine = [train_df, test_df]    "
   ]
  },
  {
   "cell_type": "code",
   "execution_count": 59,
   "metadata": {},
   "outputs": [],
   "source": [
    "freq_port = train_df.Embarked.dropna().mode()[0]\n"
   ]
  },
  {
   "cell_type": "code",
   "execution_count": 60,
   "metadata": {},
   "outputs": [],
   "source": [
    "train_df['FamilySize']  = 0\n",
    "test_df['FamilySize']  = 0\n",
    "combine = [train_df, test_df]\n",
    "for dataset in combine:        \n",
    "        dataset['FamilySize'] = (dataset['Parch'] + dataset['SibSp']).astype(int) + 1        "
   ]
  },
  {
   "cell_type": "code",
   "execution_count": 61,
   "metadata": {},
   "outputs": [],
   "source": [
    "train_df['IsAlone'] = 0\n",
    "test_df['IsAlone'] = 0\n",
    "train_df.loc[ (train_df.FamilySize == 1), 'IsAlone'] = 1\n",
    "test_df.loc[ (train_df.FamilySize == 1), 'IsAlone'] = 1\n",
    "\n",
    "if 'Parch' in test_df:\n",
    "    test_df = test_df.drop(['Parch'], axis=1)  \n",
    "if 'SibSp' in test_df:\n",
    "    test_df = test_df.drop(['SibSp'], axis=1)      \n",
    "\n",
    "if 'Parch' in train_df:\n",
    "    train_df = train_df.drop(['Parch'], axis=1)  \n",
    "if 'SibSp' in train_df:\n",
    "    train_df = train_df.drop(['SibSp'], axis=1)      \n",
    "\n",
    "if 'FamilySize' in train_df:\n",
    "    train_df = train_df.drop(['FamilySize'], axis=1)  \n",
    "    \n",
    "if 'FamilySize' in test_df:\n",
    "    test_df = test_df.drop(['FamilySize'], axis=1)   \n",
    "    \n",
    "combine = [train_df, test_df]    "
   ]
  },
  {
   "cell_type": "code",
   "execution_count": 62,
   "metadata": {},
   "outputs": [],
   "source": [
    "for dataset in combine:\n",
    "    dataset['Embarked'] = dataset['Embarked'].fillna(freq_port)"
   ]
  },
  {
   "cell_type": "code",
   "execution_count": 63,
   "metadata": {},
   "outputs": [],
   "source": [
    "for dataset in combine:\n",
    "    dataset['Embarked'] = dataset['Embarked'].map( {'S': 0, 'C': 1, 'Q': 2} ).astype(int)"
   ]
  },
  {
   "cell_type": "code",
   "execution_count": 64,
   "metadata": {},
   "outputs": [
    {
     "data": {
      "text/html": [
       "<div>\n",
       "<style scoped>\n",
       "    .dataframe tbody tr th:only-of-type {\n",
       "        vertical-align: middle;\n",
       "    }\n",
       "\n",
       "    .dataframe tbody tr th {\n",
       "        vertical-align: top;\n",
       "    }\n",
       "\n",
       "    .dataframe thead th {\n",
       "        text-align: right;\n",
       "    }\n",
       "</style>\n",
       "<table border=\"1\" class=\"dataframe\">\n",
       "  <thead>\n",
       "    <tr style=\"text-align: right;\">\n",
       "      <th></th>\n",
       "      <th>1</th>\n",
       "      <th>2</th>\n",
       "    </tr>\n",
       "  </thead>\n",
       "  <tbody>\n",
       "    <tr>\n",
       "      <th>0</th>\n",
       "      <td>0</td>\n",
       "      <td>0</td>\n",
       "    </tr>\n",
       "    <tr>\n",
       "      <th>1</th>\n",
       "      <td>1</td>\n",
       "      <td>0</td>\n",
       "    </tr>\n",
       "    <tr>\n",
       "      <th>2</th>\n",
       "      <td>0</td>\n",
       "      <td>0</td>\n",
       "    </tr>\n",
       "    <tr>\n",
       "      <th>3</th>\n",
       "      <td>0</td>\n",
       "      <td>0</td>\n",
       "    </tr>\n",
       "    <tr>\n",
       "      <th>4</th>\n",
       "      <td>0</td>\n",
       "      <td>0</td>\n",
       "    </tr>\n",
       "  </tbody>\n",
       "</table>\n",
       "</div>"
      ],
      "text/plain": [
       "   1  2\n",
       "0  0  0\n",
       "1  1  0\n",
       "2  0  0\n",
       "3  0  0\n",
       "4  0  0"
      ]
     },
     "execution_count": 64,
     "metadata": {},
     "output_type": "execute_result"
    }
   ],
   "source": [
    "emb = pd.get_dummies(train_df['Embarked'],drop_first=True)\n",
    "emb.head()"
   ]
  },
  {
   "cell_type": "code",
   "execution_count": 65,
   "metadata": {},
   "outputs": [],
   "source": [
    "test_df['Fare'].fillna(test_df['Fare'].dropna().median(), inplace=True)\n",
    "train_df['Fare'].fillna(train_df['Fare'].dropna().median(), inplace=True)\n",
    "combine = [train_df, test_df] "
   ]
  },
  {
   "cell_type": "markdown",
   "metadata": {},
   "source": [
    "### Age band Feature"
   ]
  },
  {
   "cell_type": "code",
   "execution_count": 67,
   "metadata": {},
   "outputs": [
    {
     "data": {
      "text/plain": [
       "array([[0., 0., 0.],\n",
       "       [0., 0., 0.]])"
      ]
     },
     "execution_count": 67,
     "metadata": {},
     "output_type": "execute_result"
    }
   ],
   "source": [
    "guess_ages = np.zeros((2,3))\n",
    "guess_ages"
   ]
  },
  {
   "cell_type": "code",
   "execution_count": 68,
   "metadata": {},
   "outputs": [],
   "source": [
    "for dataset in combine:\n",
    "    for i in range(0, 2):\n",
    "        for j in range(0, 3):\n",
    "            guess_df = dataset[(dataset['Sex'] == i) & \\\n",
    "                                  (dataset['Pclass'] == j+1)]['Age'].dropna()\n",
    "\n",
    "            # age_mean = guess_df.mean()\n",
    "            # age_std = guess_df.std()\n",
    "            # age_guess = rnd.uniform(age_mean - age_std, age_mean + age_std)\n",
    "\n",
    "            age_guess = guess_df.median()\n",
    "\n",
    "            # Convert random age float to nearest .5 age\n",
    "            guess_ages[i,j] = int( age_guess/0.5 + 0.5 ) * 0.5\n",
    "            \n",
    "    for i in range(0, 2):\n",
    "        for j in range(0, 3):\n",
    "            dataset.loc[ (dataset.Age.isnull()) & (dataset.Sex == i) & (dataset.Pclass == j+1),\\\n",
    "                    'Age'] = guess_ages[i,j]\n",
    "\n",
    "    dataset['Age'] = dataset['Age'].astype(int)"
   ]
  },
  {
   "cell_type": "code",
   "execution_count": 69,
   "metadata": {},
   "outputs": [],
   "source": [
    "train_df['AgeBand'] = pd.cut(train_df['Age'], age_buckets,include_lowest=True).astype(str).str.strip('()[]')\n",
    "age_band_buckets = train_df[['AgeBand', 'Survived']].groupby(['AgeBand'], as_index=False).mean().sort_values(by='AgeBand', ascending=True)\n",
    "age_band_buckets = age_band_buckets['AgeBand'].str.split(',', expand=True)\n",
    "age_band_buckets.rename(columns={ age_band_buckets.columns[0]: \"Min\" , age_band_buckets.columns[1]: \"Max\"}, inplace=True)\n",
    "age_band_buckets = age_band_buckets.dropna()\n",
    "age_band_buckets.Min = age_band_buckets.Min.astype(float)\n",
    "age_band_buckets.Max = age_band_buckets.Max.astype(float)\n",
    "age_band_buckets.sort_values(by='Min', ascending=True,inplace=True)\n",
    "#age_band_buckets.head(100).sort_values(by='Min', ascending=True)"
   ]
  },
  {
   "cell_type": "code",
   "execution_count": 70,
   "metadata": {},
   "outputs": [],
   "source": [
    "train_df['AgeInt'] = -1\n",
    "test_df['AgeInt'] = -1\n",
    "combine = [train_df, test_df] \n",
    "a_rowcount = age_band_buckets.shape[0] -1\n",
    "a_iterplace = 0\n",
    "for index, row in age_band_buckets.sort_values(by='Min', ascending=True).iterrows():\n",
    "    minval =  row['Min']\n",
    "    maxval = row['Max']\n",
    "    \n",
    "    if a_iterplace == a_rowcount:#need to handle max value truncation        \n",
    "        maxval += 1        \n",
    "        \n",
    "    a_iterplace +=1\n",
    "    for dataset in combine:                         \n",
    "        dataset.loc[(dataset['Age'] >= minval) & (dataset['Age'] <= maxval), 'AgeInt'] = index        "
   ]
  },
  {
   "cell_type": "markdown",
   "metadata": {},
   "source": [
    "### Fare band feature"
   ]
  },
  {
   "cell_type": "code",
   "execution_count": 71,
   "metadata": {},
   "outputs": [],
   "source": [
    "train_df['FareBand'] = pd.qcut(train_df['Fare'], fare_buckets).astype(str).str.strip('()[]')\n",
    "Fare_band_buckets = train_df[['FareBand', 'Survived']].groupby(['FareBand'], as_index=False).mean().sort_values(by='FareBand', ascending=True)\n",
    "Fare_band_buckets = Fare_band_buckets['FareBand'].str.split(',', expand=True)\n",
    "Fare_band_buckets.rename(columns={ Fare_band_buckets.columns[0]: \"Min\" , Fare_band_buckets.columns[1]: \"Max\"}, inplace=True)\n",
    "Fare_band_buckets = Fare_band_buckets.dropna()\n",
    "Fare_band_buckets.Min = Fare_band_buckets.Min.astype(float)\n",
    "Fare_band_buckets.Max = Fare_band_buckets.Max.astype(float)\n",
    "Fare_band_buckets.sort_values(by='Min', ascending=True,inplace=True)\n",
    "#Fare_band_buckets.head(100).sort_values(by='Min', ascending=True)"
   ]
  },
  {
   "cell_type": "code",
   "execution_count": 72,
   "metadata": {},
   "outputs": [],
   "source": [
    "train_df['FareInt'] = -1\n",
    "test_df['FareInt'] = -1\n",
    "combine = [train_df, test_df] \n",
    "f_rowcount = Fare_band_buckets.shape[0] -1\n",
    "f_iterplace = 0\n",
    "for index, row in Fare_band_buckets.sort_values(by='Min', ascending=True).iterrows():\n",
    "    minval =  row['Min']\n",
    "    maxval = row['Max']\n",
    "    \n",
    "    if f_iterplace == f_rowcount:#need to handle max value truncation        \n",
    "        maxval += 1        \n",
    "        \n",
    "    f_iterplace +=1\n",
    "    for dataset in combine:                         \n",
    "        dataset.loc[(dataset['Fare'] >= minval) & (dataset['Fare'] <= maxval), 'FareInt'] = index        "
   ]
  },
  {
   "cell_type": "code",
   "execution_count": 73,
   "metadata": {},
   "outputs": [],
   "source": [
    "if 'FareBand' in test_df:\n",
    "    test_df = test_df.drop(['FareBand'], axis=1)  \n",
    "if 'SibSp' in test_df:\n",
    "    test_df = test_df.drop(['SibSp'], axis=1)      \n",
    "\n",
    "if 'FareBand' in train_df:\n",
    "    train_df = train_df.drop(['FareBand'], axis=1)  \n",
    "if 'AgeBand' in train_df:\n",
    "    train_df = train_df.drop(['AgeBand'], axis=1)    \n",
    "    \n",
    "if 'Fare' in train_df:\n",
    "    train_df = train_df.drop(['Fare'], axis=1)  \n",
    "if 'Age' in train_df:\n",
    "    train_df = train_df.drop(['Age'], axis=1)   \n",
    "    \n",
    "if 'Fare' in test_df:\n",
    "    test_df = test_df.drop(['Fare'], axis=1)  \n",
    "if 'Age' in test_df:\n",
    "    test_df = test_df.drop(['Age'], axis=1)    \n",
    "    \n",
    "combine = [train_df, test_df] "
   ]
  },
  {
   "cell_type": "markdown",
   "metadata": {},
   "source": [
    "### use name to generate a title"
   ]
  },
  {
   "cell_type": "code",
   "execution_count": 74,
   "metadata": {},
   "outputs": [
    {
     "data": {
      "text/plain": [
       "Mr        513\n",
       "Miss      180\n",
       "Mrs       126\n",
       "Master     39\n",
       "Rare       23\n",
       "Name: Title, dtype: int64"
      ]
     },
     "execution_count": 74,
     "metadata": {},
     "output_type": "execute_result"
    }
   ],
   "source": [
    "for dataset in combine:\n",
    "    dataset['Title'] = dataset.Name.str.extract(' ([A-Za-z]+)\\.', expand=False)\n",
    "\n",
    "for dataset in combine:\n",
    "    dataset['Title'] = dataset['Title'].replace(['Lady', 'Countess','Capt', 'Col',\\\n",
    " \t'Don', 'Dr', 'Major', 'Rev', 'Sir', 'Jonkheer', 'Dona'], 'Rare')\n",
    "\n",
    "    dataset['Title'] = dataset['Title'].replace('Mlle', 'Miss')\n",
    "    dataset['Title'] = dataset['Title'].replace('Ms', 'Miss')\n",
    "    dataset['Title'] = dataset['Title'].replace('Mme', 'Mrs')\n",
    "\n",
    "train_df['Title'].value_counts() "
   ]
  },
  {
   "cell_type": "code",
   "execution_count": 75,
   "metadata": {},
   "outputs": [],
   "source": [
    "title_mapping = {\"Mr\": 1, \"Miss\": 2, \"Mrs\": 3, \"Master\": 4, \"Rare\": 5}\n",
    "for dataset in combine:\n",
    "    dataset['Title'] = dataset['Title'].map(title_mapping)\n",
    "    dataset['Title'] = dataset['Title'].fillna(0)"
   ]
  },
  {
   "cell_type": "code",
   "execution_count": 76,
   "metadata": {},
   "outputs": [],
   "source": [
    "if 'Name' in test_df:\n",
    "    test_df = test_df.drop(['Name'], axis=1)  \n",
    "if 'Name' in train_df:\n",
    "    train_df = train_df.drop(['Name'], axis=1)    \n",
    "    \n",
    "combine = [train_df, test_df] "
   ]
  },
  {
   "cell_type": "code",
   "execution_count": 77,
   "metadata": {},
   "outputs": [
    {
     "name": "stdout",
     "output_type": "stream",
     "text": [
      "--------------------------------------------------------------------------------\n"
     ]
    }
   ],
   "source": [
    "#train_df.info()\n",
    "print(\"--\"*40)\n",
    "#test_df.info()"
   ]
  },
  {
   "cell_type": "code",
   "execution_count": 78,
   "metadata": {
    "scrolled": false
   },
   "outputs": [],
   "source": [
    "#colormap = plt.cm.RdBu\n",
    "#plt.figure(figsize=(14,12))\n",
    "#plt.title('Pearson Correlation of Features', y=1.05, size=15)\n",
    "#sns.heatmap(train_df[[\"AgeInt\", \"Pclass\",\"FareInt\",\"Survived\",\"Sex\",'IsAlone','Title']].astype(float).corr(),linewidths=0.1,vmax=1.0, \n",
    "#            square=True, cmap=colormap, linecolor='white', annot=True)"
   ]
  },
  {
   "cell_type": "code",
   "execution_count": 79,
   "metadata": {},
   "outputs": [
    {
     "data": {
      "text/html": [
       "<div>\n",
       "<style scoped>\n",
       "    .dataframe tbody tr th:only-of-type {\n",
       "        vertical-align: middle;\n",
       "    }\n",
       "\n",
       "    .dataframe tbody tr th {\n",
       "        vertical-align: top;\n",
       "    }\n",
       "\n",
       "    .dataframe thead th {\n",
       "        text-align: right;\n",
       "    }\n",
       "</style>\n",
       "<table border=\"1\" class=\"dataframe\">\n",
       "  <thead>\n",
       "    <tr style=\"text-align: right;\">\n",
       "      <th></th>\n",
       "      <th>PassengerId</th>\n",
       "      <th>Pclass</th>\n",
       "      <th>Sex</th>\n",
       "      <th>Embarked</th>\n",
       "      <th>IsAlone</th>\n",
       "      <th>AgeInt</th>\n",
       "      <th>FareInt</th>\n",
       "      <th>Title</th>\n",
       "    </tr>\n",
       "  </thead>\n",
       "  <tbody>\n",
       "    <tr>\n",
       "      <th>0</th>\n",
       "      <td>892</td>\n",
       "      <td>3</td>\n",
       "      <td>0</td>\n",
       "      <td>2</td>\n",
       "      <td>0</td>\n",
       "      <td>6</td>\n",
       "      <td>-1</td>\n",
       "      <td>1</td>\n",
       "    </tr>\n",
       "    <tr>\n",
       "      <th>1</th>\n",
       "      <td>893</td>\n",
       "      <td>3</td>\n",
       "      <td>1</td>\n",
       "      <td>0</td>\n",
       "      <td>0</td>\n",
       "      <td>10</td>\n",
       "      <td>9</td>\n",
       "      <td>3</td>\n",
       "    </tr>\n",
       "    <tr>\n",
       "      <th>2</th>\n",
       "      <td>894</td>\n",
       "      <td>2</td>\n",
       "      <td>0</td>\n",
       "      <td>2</td>\n",
       "      <td>1</td>\n",
       "      <td>14</td>\n",
       "      <td>-1</td>\n",
       "      <td>1</td>\n",
       "    </tr>\n",
       "    <tr>\n",
       "      <th>3</th>\n",
       "      <td>895</td>\n",
       "      <td>3</td>\n",
       "      <td>0</td>\n",
       "      <td>0</td>\n",
       "      <td>0</td>\n",
       "      <td>4</td>\n",
       "      <td>-1</td>\n",
       "      <td>1</td>\n",
       "    </tr>\n",
       "    <tr>\n",
       "      <th>4</th>\n",
       "      <td>896</td>\n",
       "      <td>3</td>\n",
       "      <td>1</td>\n",
       "      <td>0</td>\n",
       "      <td>1</td>\n",
       "      <td>3</td>\n",
       "      <td>-1</td>\n",
       "      <td>3</td>\n",
       "    </tr>\n",
       "  </tbody>\n",
       "</table>\n",
       "</div>"
      ],
      "text/plain": [
       "   PassengerId  Pclass  Sex  Embarked  IsAlone  AgeInt  FareInt  Title\n",
       "0          892       3    0         2        0       6       -1      1\n",
       "1          893       3    1         0        0      10        9      3\n",
       "2          894       2    0         2        1      14       -1      1\n",
       "3          895       3    0         0        0       4       -1      1\n",
       "4          896       3    1         0        1       3       -1      3"
      ]
     },
     "execution_count": 79,
     "metadata": {},
     "output_type": "execute_result"
    }
   ],
   "source": [
    "test_df.head()"
   ]
  },
  {
   "cell_type": "markdown",
   "metadata": {},
   "source": [
    "## Machine Learning"
   ]
  },
  {
   "cell_type": "code",
   "execution_count": 80,
   "metadata": {},
   "outputs": [
    {
     "data": {
      "text/plain": [
       "((881, 7), (881,), (418, 7))"
      ]
     },
     "execution_count": 80,
     "metadata": {},
     "output_type": "execute_result"
    }
   ],
   "source": [
    "X_train = train_df.drop(\"Survived\", axis=1)\n",
    "X_train = X_train.drop(\"PassengerId\", axis=1)\n",
    "Y_train = train_df[\"Survived\"]\n",
    "\n",
    "X_test = test_df\n",
    "X_test = X_test.drop(\"PassengerId\", axis=1)\n",
    "\n",
    "X_train.shape, Y_train.shape, X_test.shape"
   ]
  },
  {
   "cell_type": "code",
   "execution_count": 81,
   "metadata": {},
   "outputs": [],
   "source": [
    "mlp = MLPClassifier(solver='lbfgs', alpha=1e-3,\n",
    "                     hidden_layer_sizes=(5, 2), random_state=1)\n",
    "\n",
    "logreg = LogisticRegression()\n",
    "ridge = RidgeClassifier()\n",
    "svc = SVC()\n",
    "knn = KNeighborsClassifier(n_neighbors = 3)\n",
    "perceptron = Perceptron(alpha=1e-5)\n",
    "gaussian = GaussianNB()\n",
    "linear_svc = LinearSVC()\n",
    "sgd = SGDClassifier()\n",
    "decision_tree = DecisionTreeClassifier()\n",
    "random_forest = RandomForestClassifier(n_estimators=100)\n",
    "\n",
    "models ={}\n",
    "models[\"logreg\"] = logreg\n",
    "models[\"ridge\"] = ridge\n",
    "models[\"svc\"] = svc\n",
    "models[\"knn\"] = knn\n",
    "models[\"perceptron\"] = perceptron\n",
    "models[\"mlp\"] = mlp\n",
    "models[\"gaussian\"] = gaussian\n",
    "models[\"linear_svc\"] = linear_svc\n",
    "models[\"sgd\"] = sgd\n",
    "models[\"decision_tree\"] = decision_tree\n",
    "models[\"random_forest\"] = random_forest"
   ]
  },
  {
   "cell_type": "code",
   "execution_count": 82,
   "metadata": {},
   "outputs": [
    {
     "name": "stderr",
     "output_type": "stream",
     "text": [
      "/home/mathewlech/anaconda3/envs/primary_env/lib/python3.6/site-packages/sklearn/linear_model/stochastic_gradient.py:128: FutureWarning: max_iter and tol parameters have been added in <class 'sklearn.linear_model.perceptron.Perceptron'> in 0.19. If both are left unset, they default to max_iter=5 and tol=None. If tol is not None, max_iter defaults to max_iter=1000. From 0.21, default max_iter will be 1000, and default tol will be 1e-3.\n",
      "  \"and default tol will be 1e-3.\" % type(self), FutureWarning)\n",
      "/home/mathewlech/anaconda3/envs/primary_env/lib/python3.6/site-packages/sklearn/linear_model/stochastic_gradient.py:128: FutureWarning: max_iter and tol parameters have been added in <class 'sklearn.linear_model.perceptron.Perceptron'> in 0.19. If both are left unset, they default to max_iter=5 and tol=None. If tol is not None, max_iter defaults to max_iter=1000. From 0.21, default max_iter will be 1000, and default tol will be 1e-3.\n",
      "  \"and default tol will be 1e-3.\" % type(self), FutureWarning)\n",
      "/home/mathewlech/anaconda3/envs/primary_env/lib/python3.6/site-packages/sklearn/linear_model/stochastic_gradient.py:128: FutureWarning: max_iter and tol parameters have been added in <class 'sklearn.linear_model.perceptron.Perceptron'> in 0.19. If both are left unset, they default to max_iter=5 and tol=None. If tol is not None, max_iter defaults to max_iter=1000. From 0.21, default max_iter will be 1000, and default tol will be 1e-3.\n",
      "  \"and default tol will be 1e-3.\" % type(self), FutureWarning)\n",
      "/home/mathewlech/anaconda3/envs/primary_env/lib/python3.6/site-packages/sklearn/linear_model/stochastic_gradient.py:128: FutureWarning: max_iter and tol parameters have been added in <class 'sklearn.linear_model.perceptron.Perceptron'> in 0.19. If both are left unset, they default to max_iter=5 and tol=None. If tol is not None, max_iter defaults to max_iter=1000. From 0.21, default max_iter will be 1000, and default tol will be 1e-3.\n",
      "  \"and default tol will be 1e-3.\" % type(self), FutureWarning)\n",
      "/home/mathewlech/anaconda3/envs/primary_env/lib/python3.6/site-packages/sklearn/linear_model/stochastic_gradient.py:128: FutureWarning: max_iter and tol parameters have been added in <class 'sklearn.linear_model.perceptron.Perceptron'> in 0.19. If both are left unset, they default to max_iter=5 and tol=None. If tol is not None, max_iter defaults to max_iter=1000. From 0.21, default max_iter will be 1000, and default tol will be 1e-3.\n",
      "  \"and default tol will be 1e-3.\" % type(self), FutureWarning)\n",
      "/home/mathewlech/anaconda3/envs/primary_env/lib/python3.6/site-packages/sklearn/linear_model/stochastic_gradient.py:128: FutureWarning: max_iter and tol parameters have been added in <class 'sklearn.linear_model.stochastic_gradient.SGDClassifier'> in 0.19. If both are left unset, they default to max_iter=5 and tol=None. If tol is not None, max_iter defaults to max_iter=1000. From 0.21, default max_iter will be 1000, and default tol will be 1e-3.\n",
      "  \"and default tol will be 1e-3.\" % type(self), FutureWarning)\n",
      "/home/mathewlech/anaconda3/envs/primary_env/lib/python3.6/site-packages/sklearn/linear_model/stochastic_gradient.py:128: FutureWarning: max_iter and tol parameters have been added in <class 'sklearn.linear_model.stochastic_gradient.SGDClassifier'> in 0.19. If both are left unset, they default to max_iter=5 and tol=None. If tol is not None, max_iter defaults to max_iter=1000. From 0.21, default max_iter will be 1000, and default tol will be 1e-3.\n",
      "  \"and default tol will be 1e-3.\" % type(self), FutureWarning)\n",
      "/home/mathewlech/anaconda3/envs/primary_env/lib/python3.6/site-packages/sklearn/linear_model/stochastic_gradient.py:128: FutureWarning: max_iter and tol parameters have been added in <class 'sklearn.linear_model.stochastic_gradient.SGDClassifier'> in 0.19. If both are left unset, they default to max_iter=5 and tol=None. If tol is not None, max_iter defaults to max_iter=1000. From 0.21, default max_iter will be 1000, and default tol will be 1e-3.\n",
      "  \"and default tol will be 1e-3.\" % type(self), FutureWarning)\n",
      "/home/mathewlech/anaconda3/envs/primary_env/lib/python3.6/site-packages/sklearn/linear_model/stochastic_gradient.py:128: FutureWarning: max_iter and tol parameters have been added in <class 'sklearn.linear_model.stochastic_gradient.SGDClassifier'> in 0.19. If both are left unset, they default to max_iter=5 and tol=None. If tol is not None, max_iter defaults to max_iter=1000. From 0.21, default max_iter will be 1000, and default tol will be 1e-3.\n",
      "  \"and default tol will be 1e-3.\" % type(self), FutureWarning)\n",
      "/home/mathewlech/anaconda3/envs/primary_env/lib/python3.6/site-packages/sklearn/linear_model/stochastic_gradient.py:128: FutureWarning: max_iter and tol parameters have been added in <class 'sklearn.linear_model.stochastic_gradient.SGDClassifier'> in 0.19. If both are left unset, they default to max_iter=5 and tol=None. If tol is not None, max_iter defaults to max_iter=1000. From 0.21, default max_iter will be 1000, and default tol will be 1e-3.\n",
      "  \"and default tol will be 1e-3.\" % type(self), FutureWarning)\n"
     ]
    }
   ],
   "source": [
    "from sklearn.metrics import precision_recall_fscore_support as score\n",
    "from sklearn.model_selection import cross_val_score\n",
    "scores_df = pd.DataFrame()\n",
    "#allcoeffs = pd.DataFrame(columns=['Feature','Model','Correlation'])\n",
    "for name, model in models.items():\n",
    "    model.fit(X_train, Y_train)\n",
    "    X_Pred = model.predict(X_train)\n",
    "        \n",
    "    sc = round(model.score(X_train, Y_train) * 100, 2)    \n",
    "    precision, recall, fscore, support = score(Y_train, X_Pred)\n",
    "\n",
    "    #coeff_df = pd.DataFrame(X_train.columns.delete(0))\n",
    "    #coeff_df['Model'] = name\n",
    "    #coeff_df.rename(columns={ coeff_df.columns[0]: \"Feature\" }, inplace=True)\n",
    "    #coeff_df[\"Correlation\"] = pd.Series(model.coef_[0])    \n",
    "    \n",
    "    #allcoeffs = allcoeffs.append(coeff_df)\n",
    "    \n",
    "    cvscore = cross_val_score(model, X_train, Y_train,\n",
    "                                scoring='accuracy', cv=4)\n",
    "    \n",
    "    cv_mean = round(cvscore.mean() * 100, 2)   \n",
    "    cv_stddev = round(cvscore.std() * 100 * 2, 2)   \n",
    "    scores_df = scores_df.append({\n",
    "                                    'Model':name, \n",
    "                                    'Score':sc,\n",
    "                                    'CV_Mean': cv_mean,\n",
    "                                    'CV_SDEV': cv_stddev,\n",
    "                                    'Precision': precision,\n",
    "                                    'recall': recall,\n",
    "                                    'fscore': fscore,\n",
    "                                    'support': support                                    \n",
    "                                \n",
    "    }, ignore_index=True)"
   ]
  },
  {
   "cell_type": "code",
   "execution_count": 83,
   "metadata": {},
   "outputs": [
    {
     "data": {
      "text/html": [
       "<div>\n",
       "<style scoped>\n",
       "    .dataframe tbody tr th:only-of-type {\n",
       "        vertical-align: middle;\n",
       "    }\n",
       "\n",
       "    .dataframe tbody tr th {\n",
       "        vertical-align: top;\n",
       "    }\n",
       "\n",
       "    .dataframe thead th {\n",
       "        text-align: right;\n",
       "    }\n",
       "</style>\n",
       "<table border=\"1\" class=\"dataframe\">\n",
       "  <thead>\n",
       "    <tr style=\"text-align: right;\">\n",
       "      <th></th>\n",
       "      <th>Model</th>\n",
       "      <th>Score</th>\n",
       "      <th>CV_Mean</th>\n",
       "      <th>CV_SDEV</th>\n",
       "      <th>Precision</th>\n",
       "      <th>recall</th>\n",
       "      <th>fscore</th>\n",
       "      <th>support</th>\n",
       "    </tr>\n",
       "  </thead>\n",
       "  <tbody>\n",
       "    <tr>\n",
       "      <th>9</th>\n",
       "      <td>decision_tree</td>\n",
       "      <td>92.51</td>\n",
       "      <td>79.68</td>\n",
       "      <td>2.48</td>\n",
       "      <td>[0.9087779690189329, 0.9566666666666667]</td>\n",
       "      <td>[0.9759704251386322, 0.8441176470588235]</td>\n",
       "      <td>[0.9411764705882353, 0.896875]</td>\n",
       "      <td>[541, 340]</td>\n",
       "    </tr>\n",
       "    <tr>\n",
       "      <th>10</th>\n",
       "      <td>random_forest</td>\n",
       "      <td>92.51</td>\n",
       "      <td>80.82</td>\n",
       "      <td>2.83</td>\n",
       "      <td>[0.9173989455184535, 0.9391025641025641]</td>\n",
       "      <td>[0.9648798521256932, 0.861764705882353]</td>\n",
       "      <td>[0.9405405405405406, 0.8987730061349694]</td>\n",
       "      <td>[541, 340]</td>\n",
       "    </tr>\n",
       "    <tr>\n",
       "      <th>3</th>\n",
       "      <td>knn</td>\n",
       "      <td>87.74</td>\n",
       "      <td>78.66</td>\n",
       "      <td>2.43</td>\n",
       "      <td>[0.8957952468007313, 0.8473053892215568]</td>\n",
       "      <td>[0.9057301293900185, 0.8323529411764706]</td>\n",
       "      <td>[0.9007352941176471, 0.8397626112759644]</td>\n",
       "      <td>[541, 340]</td>\n",
       "    </tr>\n",
       "    <tr>\n",
       "      <th>2</th>\n",
       "      <td>svc</td>\n",
       "      <td>85.93</td>\n",
       "      <td>80.25</td>\n",
       "      <td>5.11</td>\n",
       "      <td>[0.8576329331046312, 0.8624161073825504]</td>\n",
       "      <td>[0.9242144177449169, 0.7558823529411764]</td>\n",
       "      <td>[0.8896797153024911, 0.80564263322884]</td>\n",
       "      <td>[541, 340]</td>\n",
       "    </tr>\n",
       "    <tr>\n",
       "      <th>5</th>\n",
       "      <td>mlp</td>\n",
       "      <td>82.86</td>\n",
       "      <td>80.48</td>\n",
       "      <td>4.60</td>\n",
       "      <td>[0.8282828282828283, 0.8292682926829268]</td>\n",
       "      <td>[0.9094269870609981, 0.7]</td>\n",
       "      <td>[0.8669603524229075, 0.7591706539074959]</td>\n",
       "      <td>[541, 340]</td>\n",
       "    </tr>\n",
       "    <tr>\n",
       "      <th>1</th>\n",
       "      <td>ridge</td>\n",
       "      <td>80.02</td>\n",
       "      <td>79.91</td>\n",
       "      <td>2.44</td>\n",
       "      <td>[0.8288288288288288, 0.7515337423312883]</td>\n",
       "      <td>[0.8502772643253235, 0.7205882352941176]</td>\n",
       "      <td>[0.8394160583941606, 0.7357357357357357]</td>\n",
       "      <td>[541, 340]</td>\n",
       "    </tr>\n",
       "    <tr>\n",
       "      <th>4</th>\n",
       "      <td>perceptron</td>\n",
       "      <td>80.02</td>\n",
       "      <td>71.63</td>\n",
       "      <td>8.28</td>\n",
       "      <td>[0.8436911487758946, 0.7342857142857143]</td>\n",
       "      <td>[0.8280961182994455, 0.7558823529411764]</td>\n",
       "      <td>[0.835820895522388, 0.744927536231884]</td>\n",
       "      <td>[541, 340]</td>\n",
       "    </tr>\n",
       "    <tr>\n",
       "      <th>7</th>\n",
       "      <td>linear_svc</td>\n",
       "      <td>79.80</td>\n",
       "      <td>79.79</td>\n",
       "      <td>2.93</td>\n",
       "      <td>[0.8246869409660107, 0.7515527950310559]</td>\n",
       "      <td>[0.8521256931608133, 0.711764705882353]</td>\n",
       "      <td>[0.8381818181818183, 0.7311178247734138]</td>\n",
       "      <td>[541, 340]</td>\n",
       "    </tr>\n",
       "    <tr>\n",
       "      <th>0</th>\n",
       "      <td>logreg</td>\n",
       "      <td>79.68</td>\n",
       "      <td>79.00</td>\n",
       "      <td>2.91</td>\n",
       "      <td>[0.8278985507246377, 0.7446808510638298]</td>\n",
       "      <td>[0.844731977818854, 0.7205882352941176]</td>\n",
       "      <td>[0.8362305580969808, 0.7324364723467863]</td>\n",
       "      <td>[541, 340]</td>\n",
       "    </tr>\n",
       "    <tr>\n",
       "      <th>6</th>\n",
       "      <td>gaussian</td>\n",
       "      <td>77.07</td>\n",
       "      <td>76.17</td>\n",
       "      <td>7.56</td>\n",
       "      <td>[0.8480492813141683, 0.6751269035532995]</td>\n",
       "      <td>[0.7634011090573013, 0.7823529411764706]</td>\n",
       "      <td>[0.8035019455252917, 0.7247956403269755]</td>\n",
       "      <td>[541, 340]</td>\n",
       "    </tr>\n",
       "    <tr>\n",
       "      <th>8</th>\n",
       "      <td>sgd</td>\n",
       "      <td>58.23</td>\n",
       "      <td>72.77</td>\n",
       "      <td>17.68</td>\n",
       "      <td>[0.8878923766816144, 0.4787234042553192]</td>\n",
       "      <td>[0.3659889094269871, 0.9264705882352942]</td>\n",
       "      <td>[0.5183246073298429, 0.6312625250501002]</td>\n",
       "      <td>[541, 340]</td>\n",
       "    </tr>\n",
       "  </tbody>\n",
       "</table>\n",
       "</div>"
      ],
      "text/plain": [
       "            Model  Score  CV_Mean  CV_SDEV  \\\n",
       "9   decision_tree  92.51    79.68     2.48   \n",
       "10  random_forest  92.51    80.82     2.83   \n",
       "3             knn  87.74    78.66     2.43   \n",
       "2             svc  85.93    80.25     5.11   \n",
       "5             mlp  82.86    80.48     4.60   \n",
       "1           ridge  80.02    79.91     2.44   \n",
       "4      perceptron  80.02    71.63     8.28   \n",
       "7      linear_svc  79.80    79.79     2.93   \n",
       "0          logreg  79.68    79.00     2.91   \n",
       "6        gaussian  77.07    76.17     7.56   \n",
       "8             sgd  58.23    72.77    17.68   \n",
       "\n",
       "                                   Precision  \\\n",
       "9   [0.9087779690189329, 0.9566666666666667]   \n",
       "10  [0.9173989455184535, 0.9391025641025641]   \n",
       "3   [0.8957952468007313, 0.8473053892215568]   \n",
       "2   [0.8576329331046312, 0.8624161073825504]   \n",
       "5   [0.8282828282828283, 0.8292682926829268]   \n",
       "1   [0.8288288288288288, 0.7515337423312883]   \n",
       "4   [0.8436911487758946, 0.7342857142857143]   \n",
       "7   [0.8246869409660107, 0.7515527950310559]   \n",
       "0   [0.8278985507246377, 0.7446808510638298]   \n",
       "6   [0.8480492813141683, 0.6751269035532995]   \n",
       "8   [0.8878923766816144, 0.4787234042553192]   \n",
       "\n",
       "                                      recall  \\\n",
       "9   [0.9759704251386322, 0.8441176470588235]   \n",
       "10   [0.9648798521256932, 0.861764705882353]   \n",
       "3   [0.9057301293900185, 0.8323529411764706]   \n",
       "2   [0.9242144177449169, 0.7558823529411764]   \n",
       "5                  [0.9094269870609981, 0.7]   \n",
       "1   [0.8502772643253235, 0.7205882352941176]   \n",
       "4   [0.8280961182994455, 0.7558823529411764]   \n",
       "7    [0.8521256931608133, 0.711764705882353]   \n",
       "0    [0.844731977818854, 0.7205882352941176]   \n",
       "6   [0.7634011090573013, 0.7823529411764706]   \n",
       "8   [0.3659889094269871, 0.9264705882352942]   \n",
       "\n",
       "                                      fscore     support  \n",
       "9             [0.9411764705882353, 0.896875]  [541, 340]  \n",
       "10  [0.9405405405405406, 0.8987730061349694]  [541, 340]  \n",
       "3   [0.9007352941176471, 0.8397626112759644]  [541, 340]  \n",
       "2     [0.8896797153024911, 0.80564263322884]  [541, 340]  \n",
       "5   [0.8669603524229075, 0.7591706539074959]  [541, 340]  \n",
       "1   [0.8394160583941606, 0.7357357357357357]  [541, 340]  \n",
       "4     [0.835820895522388, 0.744927536231884]  [541, 340]  \n",
       "7   [0.8381818181818183, 0.7311178247734138]  [541, 340]  \n",
       "0   [0.8362305580969808, 0.7324364723467863]  [541, 340]  \n",
       "6   [0.8035019455252917, 0.7247956403269755]  [541, 340]  \n",
       "8   [0.5183246073298429, 0.6312625250501002]  [541, 340]  "
      ]
     },
     "execution_count": 83,
     "metadata": {},
     "output_type": "execute_result"
    }
   ],
   "source": [
    "scores_df = scores_df[['Model', 'Score', 'CV_Mean','CV_SDEV', 'Precision','recall','fscore','support',]]\n",
    "scores_df.sort_values(by='Score', ascending=False,inplace=True)\n",
    "scores_df.head(100)"
   ]
  },
  {
   "cell_type": "code",
   "execution_count": 84,
   "metadata": {},
   "outputs": [
    {
     "data": {
      "text/html": [
       "<div>\n",
       "<style scoped>\n",
       "    .dataframe tbody tr th:only-of-type {\n",
       "        vertical-align: middle;\n",
       "    }\n",
       "\n",
       "    .dataframe tbody tr th {\n",
       "        vertical-align: top;\n",
       "    }\n",
       "\n",
       "    .dataframe thead th {\n",
       "        text-align: right;\n",
       "    }\n",
       "</style>\n",
       "<table border=\"1\" class=\"dataframe\">\n",
       "  <thead>\n",
       "    <tr style=\"text-align: right;\">\n",
       "      <th></th>\n",
       "      <th>Model</th>\n",
       "      <th>Score</th>\n",
       "      <th>CV_Mean</th>\n",
       "      <th>CV_SDEV</th>\n",
       "      <th>Precision</th>\n",
       "      <th>recall</th>\n",
       "      <th>fscore</th>\n",
       "      <th>support</th>\n",
       "    </tr>\n",
       "  </thead>\n",
       "  <tbody>\n",
       "    <tr>\n",
       "      <th>10</th>\n",
       "      <td>random_forest</td>\n",
       "      <td>92.51</td>\n",
       "      <td>80.82</td>\n",
       "      <td>2.83</td>\n",
       "      <td>[0.9173989455184535, 0.9391025641025641]</td>\n",
       "      <td>[0.9648798521256932, 0.861764705882353]</td>\n",
       "      <td>[0.9405405405405406, 0.8987730061349694]</td>\n",
       "      <td>[541, 340]</td>\n",
       "    </tr>\n",
       "    <tr>\n",
       "      <th>5</th>\n",
       "      <td>mlp</td>\n",
       "      <td>82.86</td>\n",
       "      <td>80.48</td>\n",
       "      <td>4.60</td>\n",
       "      <td>[0.8282828282828283, 0.8292682926829268]</td>\n",
       "      <td>[0.9094269870609981, 0.7]</td>\n",
       "      <td>[0.8669603524229075, 0.7591706539074959]</td>\n",
       "      <td>[541, 340]</td>\n",
       "    </tr>\n",
       "    <tr>\n",
       "      <th>2</th>\n",
       "      <td>svc</td>\n",
       "      <td>85.93</td>\n",
       "      <td>80.25</td>\n",
       "      <td>5.11</td>\n",
       "      <td>[0.8576329331046312, 0.8624161073825504]</td>\n",
       "      <td>[0.9242144177449169, 0.7558823529411764]</td>\n",
       "      <td>[0.8896797153024911, 0.80564263322884]</td>\n",
       "      <td>[541, 340]</td>\n",
       "    </tr>\n",
       "    <tr>\n",
       "      <th>1</th>\n",
       "      <td>ridge</td>\n",
       "      <td>80.02</td>\n",
       "      <td>79.91</td>\n",
       "      <td>2.44</td>\n",
       "      <td>[0.8288288288288288, 0.7515337423312883]</td>\n",
       "      <td>[0.8502772643253235, 0.7205882352941176]</td>\n",
       "      <td>[0.8394160583941606, 0.7357357357357357]</td>\n",
       "      <td>[541, 340]</td>\n",
       "    </tr>\n",
       "    <tr>\n",
       "      <th>7</th>\n",
       "      <td>linear_svc</td>\n",
       "      <td>79.80</td>\n",
       "      <td>79.79</td>\n",
       "      <td>2.93</td>\n",
       "      <td>[0.8246869409660107, 0.7515527950310559]</td>\n",
       "      <td>[0.8521256931608133, 0.711764705882353]</td>\n",
       "      <td>[0.8381818181818183, 0.7311178247734138]</td>\n",
       "      <td>[541, 340]</td>\n",
       "    </tr>\n",
       "    <tr>\n",
       "      <th>9</th>\n",
       "      <td>decision_tree</td>\n",
       "      <td>92.51</td>\n",
       "      <td>79.68</td>\n",
       "      <td>2.48</td>\n",
       "      <td>[0.9087779690189329, 0.9566666666666667]</td>\n",
       "      <td>[0.9759704251386322, 0.8441176470588235]</td>\n",
       "      <td>[0.9411764705882353, 0.896875]</td>\n",
       "      <td>[541, 340]</td>\n",
       "    </tr>\n",
       "    <tr>\n",
       "      <th>0</th>\n",
       "      <td>logreg</td>\n",
       "      <td>79.68</td>\n",
       "      <td>79.00</td>\n",
       "      <td>2.91</td>\n",
       "      <td>[0.8278985507246377, 0.7446808510638298]</td>\n",
       "      <td>[0.844731977818854, 0.7205882352941176]</td>\n",
       "      <td>[0.8362305580969808, 0.7324364723467863]</td>\n",
       "      <td>[541, 340]</td>\n",
       "    </tr>\n",
       "    <tr>\n",
       "      <th>3</th>\n",
       "      <td>knn</td>\n",
       "      <td>87.74</td>\n",
       "      <td>78.66</td>\n",
       "      <td>2.43</td>\n",
       "      <td>[0.8957952468007313, 0.8473053892215568]</td>\n",
       "      <td>[0.9057301293900185, 0.8323529411764706]</td>\n",
       "      <td>[0.9007352941176471, 0.8397626112759644]</td>\n",
       "      <td>[541, 340]</td>\n",
       "    </tr>\n",
       "    <tr>\n",
       "      <th>6</th>\n",
       "      <td>gaussian</td>\n",
       "      <td>77.07</td>\n",
       "      <td>76.17</td>\n",
       "      <td>7.56</td>\n",
       "      <td>[0.8480492813141683, 0.6751269035532995]</td>\n",
       "      <td>[0.7634011090573013, 0.7823529411764706]</td>\n",
       "      <td>[0.8035019455252917, 0.7247956403269755]</td>\n",
       "      <td>[541, 340]</td>\n",
       "    </tr>\n",
       "    <tr>\n",
       "      <th>8</th>\n",
       "      <td>sgd</td>\n",
       "      <td>58.23</td>\n",
       "      <td>72.77</td>\n",
       "      <td>17.68</td>\n",
       "      <td>[0.8878923766816144, 0.4787234042553192]</td>\n",
       "      <td>[0.3659889094269871, 0.9264705882352942]</td>\n",
       "      <td>[0.5183246073298429, 0.6312625250501002]</td>\n",
       "      <td>[541, 340]</td>\n",
       "    </tr>\n",
       "    <tr>\n",
       "      <th>4</th>\n",
       "      <td>perceptron</td>\n",
       "      <td>80.02</td>\n",
       "      <td>71.63</td>\n",
       "      <td>8.28</td>\n",
       "      <td>[0.8436911487758946, 0.7342857142857143]</td>\n",
       "      <td>[0.8280961182994455, 0.7558823529411764]</td>\n",
       "      <td>[0.835820895522388, 0.744927536231884]</td>\n",
       "      <td>[541, 340]</td>\n",
       "    </tr>\n",
       "  </tbody>\n",
       "</table>\n",
       "</div>"
      ],
      "text/plain": [
       "            Model  Score  CV_Mean  CV_SDEV  \\\n",
       "10  random_forest  92.51    80.82     2.83   \n",
       "5             mlp  82.86    80.48     4.60   \n",
       "2             svc  85.93    80.25     5.11   \n",
       "1           ridge  80.02    79.91     2.44   \n",
       "7      linear_svc  79.80    79.79     2.93   \n",
       "9   decision_tree  92.51    79.68     2.48   \n",
       "0          logreg  79.68    79.00     2.91   \n",
       "3             knn  87.74    78.66     2.43   \n",
       "6        gaussian  77.07    76.17     7.56   \n",
       "8             sgd  58.23    72.77    17.68   \n",
       "4      perceptron  80.02    71.63     8.28   \n",
       "\n",
       "                                   Precision  \\\n",
       "10  [0.9173989455184535, 0.9391025641025641]   \n",
       "5   [0.8282828282828283, 0.8292682926829268]   \n",
       "2   [0.8576329331046312, 0.8624161073825504]   \n",
       "1   [0.8288288288288288, 0.7515337423312883]   \n",
       "7   [0.8246869409660107, 0.7515527950310559]   \n",
       "9   [0.9087779690189329, 0.9566666666666667]   \n",
       "0   [0.8278985507246377, 0.7446808510638298]   \n",
       "3   [0.8957952468007313, 0.8473053892215568]   \n",
       "6   [0.8480492813141683, 0.6751269035532995]   \n",
       "8   [0.8878923766816144, 0.4787234042553192]   \n",
       "4   [0.8436911487758946, 0.7342857142857143]   \n",
       "\n",
       "                                      recall  \\\n",
       "10   [0.9648798521256932, 0.861764705882353]   \n",
       "5                  [0.9094269870609981, 0.7]   \n",
       "2   [0.9242144177449169, 0.7558823529411764]   \n",
       "1   [0.8502772643253235, 0.7205882352941176]   \n",
       "7    [0.8521256931608133, 0.711764705882353]   \n",
       "9   [0.9759704251386322, 0.8441176470588235]   \n",
       "0    [0.844731977818854, 0.7205882352941176]   \n",
       "3   [0.9057301293900185, 0.8323529411764706]   \n",
       "6   [0.7634011090573013, 0.7823529411764706]   \n",
       "8   [0.3659889094269871, 0.9264705882352942]   \n",
       "4   [0.8280961182994455, 0.7558823529411764]   \n",
       "\n",
       "                                      fscore     support  \n",
       "10  [0.9405405405405406, 0.8987730061349694]  [541, 340]  \n",
       "5   [0.8669603524229075, 0.7591706539074959]  [541, 340]  \n",
       "2     [0.8896797153024911, 0.80564263322884]  [541, 340]  \n",
       "1   [0.8394160583941606, 0.7357357357357357]  [541, 340]  \n",
       "7   [0.8381818181818183, 0.7311178247734138]  [541, 340]  \n",
       "9             [0.9411764705882353, 0.896875]  [541, 340]  \n",
       "0   [0.8362305580969808, 0.7324364723467863]  [541, 340]  \n",
       "3   [0.9007352941176471, 0.8397626112759644]  [541, 340]  \n",
       "6   [0.8035019455252917, 0.7247956403269755]  [541, 340]  \n",
       "8   [0.5183246073298429, 0.6312625250501002]  [541, 340]  \n",
       "4     [0.835820895522388, 0.744927536231884]  [541, 340]  "
      ]
     },
     "execution_count": 84,
     "metadata": {},
     "output_type": "execute_result"
    }
   ],
   "source": [
    "scores_df.sort_values(by='CV_Mean', ascending=False,inplace=True)\n",
    "scores_df.head(100)"
   ]
  },
  {
   "cell_type": "code",
   "execution_count": 85,
   "metadata": {},
   "outputs": [],
   "source": [
    "# Random Forest is the best algo to use for prediction\n",
    "Y_pred = random_forest.predict(X_test)\n",
    "X_test = test_df\n",
    "\n",
    "submission = pd.DataFrame({\n",
    "        \"PassengerId\": test_df[\"PassengerId\"],\n",
    "        \"Survived\": Y_pred\n",
    "    })\n"
   ]
  },
  {
   "cell_type": "code",
   "execution_count": 86,
   "metadata": {},
   "outputs": [],
   "source": [
    "#create submission file\n",
    "#submission.to_csv('/home/mathewlech/sandbox_local/output/titanic/submission.csv', index=False)\n",
    "#submission.head(500)"
   ]
  },
  {
   "cell_type": "code",
   "execution_count": null,
   "metadata": {},
   "outputs": [],
   "source": []
  }
 ],
 "metadata": {
  "kernelspec": {
   "display_name": "Python 3",
   "language": "python",
   "name": "python3"
  },
  "language_info": {
   "codemirror_mode": {
    "name": "ipython",
    "version": 3
   },
   "file_extension": ".py",
   "mimetype": "text/x-python",
   "name": "python",
   "nbconvert_exporter": "python",
   "pygments_lexer": "ipython3",
   "version": "3.6.6"
  }
 },
 "nbformat": 4,
 "nbformat_minor": 2
}
